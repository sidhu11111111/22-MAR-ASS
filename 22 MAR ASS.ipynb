{
 "cells": [
  {
   "cell_type": "markdown",
   "id": "ebfc8080-00af-49d1-9bfb-d9f68f5a3fd7",
   "metadata": {},
   "source": [
    "#QNO.1 ANS\n"
   ]
  },
  {
   "cell_type": "code",
   "execution_count": 1,
   "id": "c018ca4f-85d6-427e-b91f-8752d8407e1b",
   "metadata": {},
   "outputs": [
    {
     "name": "stdout",
     "output_type": "stream",
     "text": [
      "Pearson correlation coefficient: 0.6889628050889408\n"
     ]
    }
   ],
   "source": [
    "from scipy.stats import pearsonr\n",
    "\n",
    "# Assuming you have a dataset with variables: Study Time and Exam Scores\n",
    "study_time = [4, 6, 3, 5, 7, 5, 6, 4, 3, 6]  # Example study time data\n",
    "exam_scores = [75, 82, 68, 90, 78, 85, 88, 72, 66, 80]  # Example exam scores data\n",
    "\n",
    "# Calculate the Pearson correlation coefficient\n",
    "correlation_coefficient, p_value = pearsonr(study_time, exam_scores)\n",
    "\n",
    "# Print the correlation coefficient\n",
    "print(\"Pearson correlation coefficient:\", correlation_coefficient)\n"
   ]
  },
  {
   "cell_type": "markdown",
   "id": "d400a675-9a31-49e8-901e-453030c33f87",
   "metadata": {},
   "source": [
    "#QNO.2 ANS"
   ]
  },
  {
   "cell_type": "code",
   "execution_count": 2,
   "id": "5576e57e-8e4f-4b87-b928-5f8997303295",
   "metadata": {},
   "outputs": [
    {
     "name": "stdout",
     "output_type": "stream",
     "text": [
      "Spearman's rank correlation coefficient: 0.9655806930066413\n"
     ]
    }
   ],
   "source": [
    "from scipy.stats import spearmanr\n",
    "\n",
    "# Assuming you have a dataset with variables: Sleep and Job Satisfaction\n",
    "sleep = [7, 6, 8, 5, 7, 6, 6, 4, 5, 7]  # Example sleep data\n",
    "job_satisfaction = [8, 6, 9, 5, 7, 6, 5, 3, 4, 7]  # Example job satisfaction data\n",
    "\n",
    "# Calculate the Spearman's rank correlation coefficient\n",
    "correlation_coefficient, p_value = spearmanr(sleep, job_satisfaction)\n",
    "\n",
    "# Print the correlation coefficient\n",
    "print(\"Spearman's rank correlation coefficient:\", correlation_coefficient)\n"
   ]
  },
  {
   "cell_type": "markdown",
   "id": "9870debb-41fa-4698-ab60-32fd61bc106c",
   "metadata": {},
   "source": [
    "#QNO.3 ANS"
   ]
  },
  {
   "cell_type": "code",
   "execution_count": 3,
   "id": "dfec11ca-b2d9-4f15-b731-2298b4007547",
   "metadata": {},
   "outputs": [
    {
     "name": "stdout",
     "output_type": "stream",
     "text": [
      "Pearson correlation coefficient: 0.9920088140513261\n",
      "Spearman's rank correlation coefficient: 0.984317308981266\n"
     ]
    }
   ],
   "source": [
    "from scipy.stats import pearsonr, spearmanr\n",
    "\n",
    "# Assuming you have a dataset with variables: Exercise Hours and BMI\n",
    "exercise_hours = [3, 5, 4, 2, 6, 3, 4, 5, 2, 1, 3, 5, 4, 6, 2, 3, 4, 5, 1, 2,\n",
    "                  3, 4, 5, 6, 3, 2, 1, 4, 5, 3, 2, 3, 1, 6, 2, 5, 4, 3, 6, 1,\n",
    "                  2, 3, 4, 5, 2, 6, 3, 4, 5, 1]\n",
    "bmi = [22.1, 25.3, 23.4, 20.8, 26.5, 21.9, 23.1, 24.8, 20.1, 19.2, 22.8,\n",
    "       25.1, 23.9, 26.3, 20.4, 22.2, 23.7, 25.0, 19.7, 20.5, 22.3, 23.8,\n",
    "       24.9, 26.2, 22.0, 20.6, 19.4, 23.3, 24.7, 22.1, 20.7, 22.6, 19.3,\n",
    "       26.6, 20.9, 25.5, 23.6, 22.4, 26.7, 19.5, 20.8, 22.7, 23.2, 24.6,\n",
    "       20.3, 26.4, 22.5, 23.5, 25.4, 19.6]\n",
    "\n",
    "# Calculate the Pearson correlation coefficient\n",
    "pearson_coefficient, pearson_p_value = pearsonr(exercise_hours, bmi)\n",
    "\n",
    "# Calculate the Spearman's rank correlation coefficient\n",
    "spearman_coefficient, spearman_p_value = spearmanr(exercise_hours, bmi)\n",
    "\n",
    "# Print the correlation coefficients\n",
    "print(\"Pearson correlation coefficient:\", pearson_coefficient)\n",
    "print(\"Spearman's rank correlation coefficient:\", spearman_coefficient)\n"
   ]
  },
  {
   "cell_type": "code",
   "execution_count": 4,
   "id": "7ea1cede-4482-463c-85f6-a9bc17c26b25",
   "metadata": {},
   "outputs": [
    {
     "name": "stdout",
     "output_type": "stream",
     "text": [
      "Pearson correlation coefficient: 0.9819080538903937\n"
     ]
    }
   ],
   "source": [
    "#QNO.4 ANS\n",
    "from scipy.stats import pearsonr\n",
    "\n",
    "# Assuming you have a dataset with variables: TV Hours and Physical Activity\n",
    "tv_hours = [3, 5, 4, 2, 6, 3, 4, 5, 2, 1, 3, 5, 4, 6, 2, 3, 4, 5, 1, 2,\n",
    "            3, 4, 5, 6, 3, 2, 1, 4, 5, 3, 2, 3, 1, 6, 2, 5, 4, 3, 6, 1,\n",
    "            2, 3, 4, 5, 2, 6, 3, 4, 5, 1]\n",
    "physical_activity = [2, 4, 3, 1, 5, 2, 3, 4, 1, 1, 2, 4, 3, 5, 1, 2, 3, 4, 1, 1,\n",
    "                     2, 3, 4, 5, 2, 1, 1, 3, 4, 2, 1, 2, 1, 5, 1, 4, 3, 2, 5, 1,\n",
    "                      1, 2, 3, 4, 1, 5, 2, 3, 4, 1]\n",
    "\n",
    "# Calculate the Pearson correlation coefficient\n",
    "correlation_coefficient, p_value = pearsonr(tv_hours, physical_activity)\n",
    "\n",
    "# Print the correlation coefficient\n",
    "print(\"Pearson correlation coefficient:\", correlation_coefficient)\n"
   ]
  },
  {
   "cell_type": "code",
   "execution_count": 10,
   "id": "02f96cfa-7b5e-46e7-a3dc-516ee52c4ca4",
   "metadata": {},
   "outputs": [
    {
     "name": "stdout",
     "output_type": "stream",
     "text": [
      "Pearson correlation coefficient: 0.9928119192489027\n"
     ]
    }
   ],
   "source": [
    "#QNO.6 ANS\n",
    "from scipy.stats import pearsonr\n",
    "\n",
    "# Assuming you have a dataset with variables: Sales Calls per Day and Sales per Week\n",
    "sales_calls_per_day = [10, 8, 6, 7, 9, 11, 13, 9, 10, 12, 7, 9, 11, 10, 8, 56]  # Example sales calls per day data\n",
    "sales_per_week = [20, 18, 15, 16, 19, 22, 24, 18, 21, 23, 16, 18, 20, 19, 17, 56]  # Example sales per week data\n",
    "\n",
    "# Calculate the Pearson correlation coefficient\n",
    "correlation_coefficient, p_value = pearsonr(sales_calls_per_day, sales_per_week)\n",
    "\n",
    "# Print the correlation coefficient\n",
    "print(\"Pearson correlation coefficient:\", correlation_coefficient)\n"
   ]
  },
  {
   "cell_type": "code",
   "execution_count": null,
   "id": "7f94ebf8-8285-4ea8-9cf6-b287d319025f",
   "metadata": {},
   "outputs": [],
   "source": []
  }
 ],
 "metadata": {
  "kernelspec": {
   "display_name": "Python 3 (ipykernel)",
   "language": "python",
   "name": "python3"
  },
  "language_info": {
   "codemirror_mode": {
    "name": "ipython",
    "version": 3
   },
   "file_extension": ".py",
   "mimetype": "text/x-python",
   "name": "python",
   "nbconvert_exporter": "python",
   "pygments_lexer": "ipython3",
   "version": "3.10.9"
  }
 },
 "nbformat": 4,
 "nbformat_minor": 5
}
